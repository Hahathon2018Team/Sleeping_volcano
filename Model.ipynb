{
 "cells": [
  {
   "cell_type": "code",
   "execution_count": 10,
   "metadata": {},
   "outputs": [],
   "source": [
    "import pandas as pd\n",
    "import numpy as np\n",
    "from scipy.stats import norm\n",
    "from scipy import stats\n",
    "from tqdm import tqdm\n",
    "import os\n",
    "import sys\n",
    "import pickle\n",
    "\n",
    "import warnings\n",
    "warnings.filterwarnings('ignore')"
   ]
  },
  {
   "cell_type": "code",
   "execution_count": 5,
   "metadata": {},
   "outputs": [
    {
     "name": "stderr",
     "output_type": "stream",
     "text": [
      "/home/selkie/anaconda3/lib/python3.6/site-packages/ipykernel_launcher.py:17: DeprecationWarning: object of type <class 'float'> cannot be safely interpreted as an integer.\n"
     ]
    }
   ],
   "source": [
    "path_data_source = 'smart_heating_dataset/'\n",
    "path_data_extracted = \"extracted_dataset/\"\n",
    "path_data_raw = \"current_dataset/\"\n",
    "data_files = os.listdir(path_data_source)\n",
    "try:\n",
    "    os.mkdir(path_data_extracted)\n",
    "    os.mkdir(path_data_raw)\n",
    "except FileExistsError:\n",
    "    pass\n",
    "\n",
    "nums = sorted(list(set([i[:6] for i in data_files if i != \"weather.json\"])))\n",
    "params = sorted(list(set([i[6:-5] for i in data_files if i != \"weather.json\"])))\n",
    "\n",
    "weather = pd.read_json(path_data_source+\"weather.json\", typ='frame', date_unit='s')\n",
    "weather.set_index(pd.to_datetime(weather['time'], unit='ms'), verify_integrity=False, inplace=True)\n",
    "weather.drop(['time'], inplace=True, axis=1)\n",
    "\n",
    "t1, t2 = pd.Timestamp('2017-11-30 21:00:00').timestamp(), pd.Timestamp('2018-03-15 03:00:00').timestamp()\n",
    "times = pd.to_datetime(np.linspace(t1+3*60*60, t2+3*60*60, (t2-t1)//60+1), unit='s')"
   ]
  },
  {
   "cell_type": "code",
   "execution_count": 11,
   "metadata": {
    "scrolled": true
   },
   "outputs": [],
   "source": [
    "for num in [i for i in nums if not (i[:-1]+'.csv' in os.listdir(path_data_extracted))]:\n",
    "    print(num)\n",
    "    tube = pd.DataFrame() \n",
    "    for param in params:\n",
    "        p = pd.read_json(path_data_source+num+param+\".json\", typ='series')\n",
    "        pf = p[times]\n",
    "        p = p[times].dropna()\n",
    "        indexes = p.index\n",
    "        first, last = p[0], p[-1]\n",
    "        prev, last_id = indexes[0], indexes[-1]\n",
    "        iter_ids = iter(indexes[1:])\n",
    "        pf[:prev] = first\n",
    "        pf[last_id:] = last\n",
    "\n",
    "        for curr in tqdm(p.index[1:]):\n",
    "            pf[prev:curr] = np.round(np.linspace(p[prev], p[curr], len(pf[prev:curr])), 4)\n",
    "            prev = curr\n",
    "        tube[param] = pf[180:-180]\n",
    "    tube.to_csv(path_data_extracted+num[:-1]+'.csv', index_label='timestamp')"
   ]
  },
  {
   "cell_type": "code",
   "execution_count": 12,
   "metadata": {},
   "outputs": [
    {
     "name": "stderr",
     "output_type": "stream",
     "text": [
      "100%|██████████| 2456/2456 [00:00<00:00, 2907.34it/s]\n",
      "100%|██████████| 2456/2456 [00:00<00:00, 2962.42it/s]\n",
      "100%|██████████| 2456/2456 [00:00<00:00, 2925.72it/s]\n"
     ]
    }
   ],
   "source": [
    "weather_new = pd.DataFrame()\n",
    "for param in weather.columns:\n",
    "    p = weather[param]\n",
    "    pf = p[times]\n",
    "    p = p[times].dropna()\n",
    "    indexes = p.index\n",
    "    first = p[0]\n",
    "    prev, last_id = indexes[0], indexes[-1]\n",
    "    iter_ids = iter(indexes[1:])\n",
    "    pf[:prev] = first\n",
    "\n",
    "    for curr in tqdm(p.index[1:]):\n",
    "        pf[prev:curr] = np.round(np.linspace(p[prev], p[curr], len(pf[prev:curr])))\n",
    "        prev = curr\n",
    "    weather_new[param] = pf[180:-180]\n",
    "weather_new.to_csv(path_data_extracted+'weather.csv', index_label='timestamp')"
   ]
  },
  {
   "cell_type": "code",
   "execution_count": 7,
   "metadata": {},
   "outputs": [],
   "source": [
    "class Predictor:\n",
    "    def __init__(self, path_to_data):\n",
    "        self.counter = 0\n",
    "        extracted = sorted(os.listdir(path_to_data))[:-1]\n",
    "        stat_data = []\n",
    "        tubes = []\n",
    "        for path in extracted:\n",
    "            description = tube.describe(percentiles=[.05, .16, 0.5, 0.84, 0.95])\n",
    "            tube = pd.read_csv(path_to_data+path, index_col='timestamp')[-30*24*60:]\n",
    "            tubes.append(np.array(tube))\n",
    "#             description = tube.describe(percentiles=[.05, .16, 0.5, 0.84, 0.95])\n",
    "            stat_data.append(np.array(description))\n",
    "        index, columns = tube.index, tube.columns\n",
    "        self.columns = columns\n",
    "        self.tube_names = [i[-4:] for i in extracted]\n",
    "#         self.panel = pd.Panel(tubes, items=self.tube_names, major_axis=index, minor_axis=columns)\n",
    "        self.stat_data = pd.Panel(stat_data, items=self.tube_names, major_axis=description.index, minor_axis=columns)\n",
    "        self.no_response = pd.DataFrame(np.zeros((len(extracted), len(columns))), index=extracted, columns=columns)\n",
    "        self.temp_corr = pd.read_csv('correlation.csv', index_col='temperature')\n",
    "    \n",
    "# input_data = pd.DataFrame(data, index=extracted (25 tubes), columns=columns (6 features))\n",
    "    def get_request(self, input_data, environment):\n",
    "        params = self.columns\n",
    "        tube_names = self.tube_names\n",
    "        return_data = pd.DataFrame(np.zeros((len(tube_names), len(params))), index=tube_names, columns=params)\n",
    "        for tube_name in tube_names:\n",
    "            for param in params:\n",
    "                item = input_data.loc[tube_name, param]\n",
    "                if np.isnan(item):\n",
    "                    self.no_response[tube_name, param] += 1\n",
    "                    if self.no_response[tube_name, param] > 60:\n",
    "                        return_data.loc[tube_name, param] = 1\n",
    "                    else:\n",
    "                        return_data.loc[tube_name, param] = 0\n",
    "                elif param == \"temp_supply\":\n",
    "                    t = self.temp_corr.loc[int(environment), 'temp_inside_1']\n",
    "                    return_data.loc[tube_name, param] = 0\n",
    "                    self.no_response[tube_name, param] = 0\n",
    "                elif param == \"temp_return\":\n",
    "                    t = self.temp_corr.loc[int(environment), 'temp_outside_3']\n",
    "                    return_data.loc[tube_name, param] = 0\n",
    "                    self.no_response[tube_name, param] = 0\n",
    "                else:\n",
    "                    stats = self.stat_data[tube_name, :, param]\n",
    "                    if stats.loc[\"16%\"] < item < stats.loc[\"84%\"]:\n",
    "                        return_data.loc[tube_name, param] = 0\n",
    "                        self.no_response[tube_name, param] = 0\n",
    "                    elif stats.loc[\"5%\"] < item < stats.loc[\"95%\"]:\n",
    "                        return_data.loc[tube_name, param] = 1\n",
    "                        self.no_response[tube_name, param] = 0\n",
    "                    elif stats.loc[\"5%\"] > item or item > stats.loc[\"95%\"]:\n",
    "                        return_data.loc[tube_name, param] = 2\n",
    "                        self.no_response[tube_name, param] = 0\n",
    "        return np.array(return_data).sum(axis=1)"
   ]
  },
  {
   "cell_type": "code",
   "execution_count": 14,
   "metadata": {},
   "outputs": [],
   "source": [
    "with open('predictor.pickle', 'wb') as f:\n",
    "    pickle.dump(Predictor, f)"
   ]
  },
  {
   "cell_type": "code",
   "execution_count": null,
   "metadata": {},
   "outputs": [],
   "source": []
  }
 ],
 "metadata": {
  "kernelspec": {
   "display_name": "Hahathonenv",
   "language": "python",
   "name": "hahathonenv"
  },
  "language_info": {
   "codemirror_mode": {
    "name": "ipython",
    "version": 3
   },
   "file_extension": ".py",
   "mimetype": "text/x-python",
   "name": "python",
   "nbconvert_exporter": "python",
   "pygments_lexer": "ipython3",
   "version": "3.6.4"
  }
 },
 "nbformat": 4,
 "nbformat_minor": 2
}

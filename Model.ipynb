{
 "cells": [
  {
   "cell_type": "code",
   "execution_count": 4,
   "metadata": {},
   "outputs": [],
   "source": [
    "import pandas as pd\n",
    "import numpy as np\n",
    "from tqdm import tqdm\n",
    "import os\n",
    "import sys"
   ]
  },
  {
   "cell_type": "code",
   "execution_count": 5,
   "metadata": {},
   "outputs": [
    {
     "name": "stderr",
     "output_type": "stream",
     "text": [
      "/home/selkie/anaconda3/lib/python3.6/site-packages/ipykernel_launcher.py:17: DeprecationWarning: object of type <class 'float'> cannot be safely interpreted as an integer.\n"
     ]
    }
   ],
   "source": [
    "path_data_source = 'smart_heating_dataset/'\n",
    "path_data_extracted = \"extracted_dataset/\"\n",
    "data_files = os.listdir(path_data_source)\n",
    "try:\n",
    "    os.mkdir(path_data_extracted)\n",
    "except FileExistsError:\n",
    "    pass\n",
    "\n",
    "nums = sorted(list(set([i[:6] for i in data_files if i != \"weather.json\"])))\n",
    "params = sorted(list(set([i[6:-5] for i in data_files if i != \"weather.json\"])))\n",
    "\n",
    "weather = pd.read_json(path_data_source+\"weather.json\", typ='frame', date_unit='s')\n",
    "weather.set_index(pd.to_datetime(weather['time'], unit='ms'), verify_integrity=False, inplace=True)\n",
    "weather.drop(['time'], inplace=True, axis=1)\n",
    "\n",
    "t1, t2 = pd.Timestamp('2017-11-30 21:00:00').timestamp(), pd.Timestamp('2018-03-15 03:00:00').timestamp()\n",
    "times = pd.to_datetime(np.linspace(t1+3*60*60, t2+3*60*60, (t2-t1)//60+1), unit='s')"
   ]
  },
  {
   "cell_type": "code",
   "execution_count": 6,
   "metadata": {
    "scrolled": true
   },
   "outputs": [],
   "source": [
    "for num in [i for i in nums if not (i[:-1]+'.csv' in os.listdir(path_data_extracted))]:\n",
    "    print(num)\n",
    "    tube = pd.DataFrame() \n",
    "    for param in params:\n",
    "        p = pd.read_json(path_data_source+num+param+\".json\", typ='series')\n",
    "        pf = p[times]\n",
    "        p = p[times].dropna()\n",
    "        indexes = p.index\n",
    "        first, last = p[0], p[-1]\n",
    "        prev, last_id = indexes[0], indexes[-1]\n",
    "        iter_ids = iter(indexes[1:])\n",
    "        pf[:prev] = first\n",
    "        pf[last_id:] = last\n",
    "\n",
    "        for curr in tqdm(p.index[1:]):\n",
    "            pf[prev:curr] = np.round(np.linspace(p[prev], p[curr], len(pf[prev:curr])), 4)\n",
    "            prev = curr\n",
    "        tube[param] = pf[180:-180]\n",
    "    tube.to_csv(path_data_extracted+num[:-1]+'.csv', index_label='timestamp')"
   ]
  },
  {
   "cell_type": "code",
   "execution_count": 9,
   "metadata": {},
   "outputs": [
    {
     "name": "stderr",
     "output_type": "stream",
     "text": [
      "100%|██████████| 2456/2456 [00:00<00:00, 2940.27it/s]\n",
      "100%|██████████| 2456/2456 [00:00<00:00, 2921.99it/s]\n",
      "100%|██████████| 2456/2456 [00:00<00:00, 3009.32it/s]\n"
     ]
    }
   ],
   "source": [
    "weather_new = pd.DataFrame()\n",
    "for param in weather.columns:\n",
    "    p = weather[param]\n",
    "    pf = p[times]\n",
    "    p = p[times].dropna()\n",
    "    indexes = p.index\n",
    "    first = p[0]\n",
    "    prev, last_id = indexes[0], indexes[-1]\n",
    "    iter_ids = iter(indexes[1:])\n",
    "    pf[:prev] = first\n",
    "\n",
    "    for curr in tqdm(p.index[1:]):\n",
    "        pf[prev:curr] = np.round(np.linspace(p[prev], p[curr], len(pf[prev:curr])), 1)\n",
    "        prev = curr\n",
    "    weather_new[param] = pf[180:-180]\n",
    "weather_new.to_csv(path_data_extracted+'weather.csv', index_label='timestamp')"
   ]
  },
  {
   "cell_type": "code",
   "execution_count": null,
   "metadata": {},
   "outputs": [],
   "source": []
  }
 ],
 "metadata": {
  "kernelspec": {
   "display_name": "Hahathonenv",
   "language": "python",
   "name": "hahathonenv"
  },
  "language_info": {
   "codemirror_mode": {
    "name": "ipython",
    "version": 3
   },
   "file_extension": ".py",
   "mimetype": "text/x-python",
   "name": "python",
   "nbconvert_exporter": "python",
   "pygments_lexer": "ipython3",
   "version": "3.6.4"
  }
 },
 "nbformat": 4,
 "nbformat_minor": 2
}
